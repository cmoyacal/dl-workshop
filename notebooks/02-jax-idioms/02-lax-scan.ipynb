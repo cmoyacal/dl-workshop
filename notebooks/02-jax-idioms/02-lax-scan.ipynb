{
 "cells": [
  {
   "cell_type": "code",
   "execution_count": 1,
   "metadata": {},
   "outputs": [],
   "source": [
    "%load_ext autoreload\n",
    "%autoreload 2\n",
    "%matplotlib inline\n",
    "%config InlineBackend.figure_format = 'retina'"
   ]
  },
  {
   "cell_type": "markdown",
   "metadata": {},
   "source": [
    "# Eliminating for-loops that have carry-over using `lax.scan`\n",
    "\n",
    "We are now going to see how we can eliminate for-loops that have carry-over using `lax.scan`.\n",
    "\n",
    "From the JAX docs, `lax.scan` replaces a for-loop with carry-over,\n",
    "with some of my own annotations added in for clarity:\n",
    "\n",
    "> Scan a function over leading array axes while carrying along state.\n",
    "> \n",
    "> ...\n",
    "> \n",
    "> ```python\n",
    "> def scan(f, init, xs, length=None):\n",
    "    if xs is None:\n",
    "         xs = [None] * length\n",
    "    carry = init\n",
    "    ys = []\n",
    "    for x in xs:\n",
    "        carry, y = f(carry, x)  # carry is the carryover\n",
    "        ys.append(y)            # the `y`s get accumulated into a stacked array\n",
    "    return carry, np.stack(ys)\n",
    "> ```\n",
    "\n",
    "A key requirement of the function `f`,\n",
    "which is the function that gets scanned over the array `xs`,\n",
    "is that it must have only two positional arguments in there,\n",
    "one for `carry` and one for `x`.\n",
    "You'll see how we can thus apply `functools.partial`\n",
    "to construct functions that have this signature\n",
    "from other functions that have more arguments present.\n",
    "\n",
    "Let's see some concrete examples of this in action."
   ]
  },
  {
   "cell_type": "markdown",
   "metadata": {},
   "source": [
    "## Example: Cumulative Summation\n",
    "\n",
    "One example where we might use a for-loop\n",
    "is in the cumulative sum or product of an array.\n",
    "Here, we need the current loop information to update the information from the previous loop.\n",
    "Let's see it in action for the cumulative sum:"
   ]
  },
  {
   "cell_type": "code",
   "execution_count": 2,
   "metadata": {},
   "outputs": [
    {
     "name": "stderr",
     "output_type": "stream",
     "text": [
      "WARNING:absl:No GPU/TPU found, falling back to CPU. (Set TF_CPP_MIN_LOG_LEVEL=0 and rerun for more info.)\n"
     ]
    },
    {
     "data": {
      "text/plain": [
       "DeviceArray([ 1,  3,  6, 11, 18, 29, 42, 59], dtype=int32)"
      ]
     },
     "execution_count": 2,
     "metadata": {},
     "output_type": "execute_result"
    }
   ],
   "source": [
    "import jax.numpy as np\n",
    "\n",
    "a = np.array([1, 2, 3, 5, 7, 11, 13, 17])\n",
    "\n",
    "result = []\n",
    "res = 0\n",
    "for el in a:\n",
    "    res += el\n",
    "    result.append(res)\n",
    "np.array(result)"
   ]
  },
  {
   "cell_type": "markdown",
   "metadata": {},
   "source": [
    "This is identical to the cumulative sum:"
   ]
  },
  {
   "cell_type": "code",
   "execution_count": 3,
   "metadata": {},
   "outputs": [
    {
     "data": {
      "text/plain": [
       "DeviceArray([ 1,  3,  6, 11, 18, 29, 42, 59], dtype=int32)"
      ]
     },
     "execution_count": 3,
     "metadata": {},
     "output_type": "execute_result"
    }
   ],
   "source": [
    "np.cumsum(a)"
   ]
  },
  {
   "cell_type": "markdown",
   "metadata": {},
   "source": [
    "Now, let's write it using `lax.scan`, so we can see the pattern in action:"
   ]
  },
  {
   "cell_type": "code",
   "execution_count": 4,
   "metadata": {},
   "outputs": [
    {
     "data": {
      "text/plain": [
       "DeviceArray([ 1,  3,  6, 11, 18, 29, 42, 59], dtype=int32)"
      ]
     },
     "execution_count": 4,
     "metadata": {},
     "output_type": "execute_result"
    }
   ],
   "source": [
    "from jax import lax\n",
    "\n",
    "\n",
    "def cumsum(res, el):\n",
    "    \"\"\"\n",
    "    - `res`: The result from the previous loop.\n",
    "    - `el`: The current array element.\n",
    "    \"\"\"\n",
    "    res = res + el\n",
    "    return res, res  # (\"carryover\", \"accumulated\")\n",
    "\n",
    "\n",
    "result_init = 0\n",
    "final, result = lax.scan(cumsum, result_init, a)\n",
    "result"
   ]
  },
  {
   "cell_type": "markdown",
   "metadata": {},
   "source": [
    "As you can see, scanned function has to return two things:\n",
    "\n",
    "- One object that gets carried over to the next loop (`carryover`), and\n",
    "- Another object that gets \"accumulated\" into an array (`accumulated`).\n",
    "\n",
    "The starting initial value, `result_init`, is passed into the `scanfunc` as `res` on the first call of the `scanfunc`. On subsequent calls, the first `res` is passed back into the `scanfunc` as the new `res`."
   ]
  },
  {
   "cell_type": "markdown",
   "metadata": {},
   "source": [
    "## Exercise 1: Simulating compound interest\n",
    "\n",
    "We can use `lax.scan` to generate data that simulates\n",
    "the generation of wealth by compound interest.\n",
    "Here's an implementation using a plain vanilla for-loop:"
   ]
  },
  {
   "cell_type": "code",
   "execution_count": 5,
   "metadata": {},
   "outputs": [],
   "source": [
    "wealth_record = []\n",
    "starting_wealth = 100.0\n",
    "interest_factor = 1.01\n",
    "num_timesteps = 100\n",
    "prev_wealth = starting_wealth\n",
    "\n",
    "for t in range(num_timesteps):\n",
    "    new_wealth = prev_wealth * interest_factor\n",
    "    wealth_record.append(prev_wealth)\n",
    "    prev_wealth = new_wealth\n",
    "\n",
    "wealth_record = np.array(wealth_record)"
   ]
  },
  {
   "cell_type": "markdown",
   "metadata": {},
   "source": [
    "Now, your challenge is to implement it in a `lax.scan` form.\n",
    "Implement the `wealth_at_time` function below."
   ]
  },
  {
   "cell_type": "code",
   "execution_count": 6,
   "metadata": {},
   "outputs": [],
   "source": [
    "from functools import partial\n",
    "\n",
    "\n",
    "def wealth_at_time(prev_wealth, time, interest_factor):\n",
    "    # The lax.scannable function to compute wealth at a given time.\n",
    "    # your answer here\n",
    "    pass\n",
    "\n",
    "\n",
    "# Comment out the import to test your answer\n",
    "from dl_workshop.jax_idioms import lax_scan_ex_1 as wealth_at_time\n",
    "\n",
    "wealth_func = partial(wealth_at_time, interest_factor=interest_factor)\n",
    "timesteps = np.arange(num_timesteps)\n",
    "final, result = lax.scan(wealth_func, init=starting_wealth, xs=timesteps)\n",
    "\n",
    "assert np.allclose(wealth_record, result)"
   ]
  },
  {
   "cell_type": "markdown",
   "metadata": {},
   "source": [
    "The two are equivalent, so we know we have the `lax.scan` implementation right."
   ]
  },
  {
   "cell_type": "code",
   "execution_count": 7,
   "metadata": {},
   "outputs": [
    {
     "data": {
      "image/png": "[encoded data removed]",
      "text/plain": [
       "<Figure size 432x288 with 1 Axes>"
      ]
     },
     "metadata": {
      "image/png": {
       "height": 250,
       "width": 375
      },
      "needs_background": "light"
     },
     "output_type": "display_data"
    }
   ],
   "source": [
    "import matplotlib.pyplot as plt\n",
    "\n",
    "plt.plot(wealth_record, label=\"for-loop\")\n",
    "plt.plot(result, label=\"lax.scan\")\n",
    "plt.legend();"
   ]
  },
  {
   "cell_type": "markdown",
   "metadata": {},
   "source": [
    "## Example: Simulating compound interest from multiple starting points\n",
    "\n",
    "Previously, was one simulation of wealth generation by compound interest\n",
    "from one starting amount of money.\n",
    "Now, let's simulate the wealth generation\n",
    "for different starting wealth levels;\n",
    "onemay choose any 300 starting points however one likes.\n",
    "This will be a demonstration of how to compose `lax.scan` with `vmap`\n",
    "to do computation without loops.\n",
    "\n",
    "To do so, you'll likely want to start with a function\n",
    "that accepts a scalar starting wealth\n",
    "and generates the simulated time series from there,\n",
    "and then `vmap` that function across multiple starting points (which is an array itself)."
   ]
  },
  {
   "cell_type": "code",
   "execution_count": 8,
   "metadata": {},
   "outputs": [
    {
     "data": {
      "text/plain": [
       "(300, 200)"
      ]
     },
     "execution_count": 8,
     "metadata": {},
     "output_type": "execute_result"
    }
   ],
   "source": [
    "from jax import vmap\n",
    "\n",
    "\n",
    "def simulate_compound_interest(\n",
    "    starting_wealth: np.ndarray, timesteps: np.ndarray\n",
    "):\n",
    "    final, result = lax.scan(wealth_func, init=starting_wealth, xs=timesteps)\n",
    "    return final, result\n",
    "\n",
    "\n",
    "num_timesteps = np.arange(200)\n",
    "starting_wealths = np.arange(300).astype(float)\n",
    "\n",
    "simulation_func = partial(simulate_compound_interest, timesteps=np.arange(200))\n",
    "\n",
    "final, growth = vmap(simulation_func)(starting_wealths)\n",
    "growth.shape"
   ]
  },
  {
   "cell_type": "code",
   "execution_count": 9,
   "metadata": {},
   "outputs": [
    {
     "data": {
      "image/png": "[encoded data removed]",
      "text/plain": [
       "<Figure size 432x288 with 1 Axes>"
      ]
     },
     "metadata": {
      "image/png": {
       "height": 248,
       "width": 368
      },
      "needs_background": "light"
     },
     "output_type": "display_data"
    }
   ],
   "source": [
    "plt.plot(growth[1])\n",
    "plt.plot(growth[2])\n",
    "plt.plot(growth[3]);"
   ]
  },
  {
   "cell_type": "markdown",
   "metadata": {},
   "source": [
    "## Exercise 2: Stick breaking process\n",
    "\n",
    "The [stick breaking process][stickbreaking] is one that is important in Bayesian non-parametric modelling,\n",
    "where we want to model something that may have potentially an infinite number of components\n",
    "while being biased towards a smaller subset of components.\n",
    "\n",
    "The stick-breaking process uses the following generative process:\n",
    "\n",
    "1. Take a stick of length 1.\n",
    "2. Draw a number between 0 and 1 from a Beta distribution (we will modify this step for this notebook).\n",
    "3. Break that fraction of the stick, and leave it aside in a pile.\n",
    "4. Repeat steps 2 and 3 with the fraction leftover after breaking the stick.\n",
    "\n",
    "We repeat _ad infinitum_ (in theory) \n",
    "or until a pre-specified large number of stick breaks have happened (in practice).\n",
    "\n",
    "In the exercise below, your task is to write the stick-breaking process\n",
    "in terms of a `lax.scan` operation.\n",
    "Because we have not yet covered drawing random numbers using JAX,\n",
    "the breaking fraction will be a fixed variable rather than a random variable.\n",
    "Here's the vanilla NumPy + Python equivalent for you to reference.\n",
    "\n",
    "[stickbreaking]: https://en.wikipedia.org/wiki/Dirichlet_process#The_stick-breaking_process"
   ]
  },
  {
   "cell_type": "code",
   "execution_count": 10,
   "metadata": {},
   "outputs": [
    {
     "data": {
      "text/plain": [
       "DeviceArray([0.1       , 0.09      , 0.081     , 0.0729    , 0.06561   ,\n",
       "             0.059049  , 0.0531441 , 0.04782969, 0.04304672, 0.03874205,\n",
       "             0.03486785, 0.03138106, 0.02824295, 0.02541866, 0.02287679,\n",
       "             0.02058911, 0.0185302 , 0.01667718, 0.01500946, 0.01350852,\n",
       "             0.01215767, 0.0109419 , 0.00984771, 0.00886294, 0.00797664,\n",
       "             0.00717898, 0.00646108, 0.00581497, 0.00523348, 0.00471013],            dtype=float32)"
      ]
     },
     "execution_count": 10,
     "metadata": {},
     "output_type": "execute_result"
    }
   ],
   "source": [
    "# NumPy equivalent\n",
    "\n",
    "num_breaks = 30\n",
    "breaking_fraction = 0.1\n",
    "\n",
    "sticks = []\n",
    "stick_length = 1.0\n",
    "for i in range(num_breaks):\n",
    "    stick = stick_length * breaking_fraction\n",
    "    sticks.append(stick)\n",
    "    stick_length = stick_length - stick\n",
    "sticks = np.array(sticks)\n",
    "sticks"
   ]
  },
  {
   "cell_type": "code",
   "execution_count": 11,
   "metadata": {},
   "outputs": [],
   "source": [
    "def lax_scan_ex_2(num_breaks: int, frac: float):\n",
    "    # Your answer goes here!\n",
    "    pass\n",
    "\n",
    "\n",
    "# Comment out the import if you want to test your answer.\n",
    "from dl_workshop.jax_idioms import lax_scan_ex_2\n",
    "\n",
    "sticksres = lax_scan_ex_2(num_breaks, breaking_fraction)\n",
    "assert np.allclose(sticksres, sticks)"
   ]
  }
 ],
 "metadata": {
  "kernelspec": {
   "display_name": "dl-workshop",
   "language": "python",
   "name": "dl-workshop"
  },
  "language_info": {
   "codemirror_mode": {
    "name": "ipython",
    "version": 3
   },
   "file_extension": ".py",
   "mimetype": "text/x-python",
   "name": "python",
   "nbconvert_exporter": "python",
   "pygments_lexer": "ipython3",
   "version": "3.9.2"
  }
 },
 "nbformat": 4,
 "nbformat_minor": 4
}
