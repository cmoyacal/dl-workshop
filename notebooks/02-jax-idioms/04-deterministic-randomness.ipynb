{
 "cells": [
  {
   "cell_type": "markdown",
   "metadata": {},
   "source": [
    "# Deterministic Randomness\n",
    "\n",
    "In this section, we'll explore how to create programs \n",
    "that use random number generation in a fashion that is fully deterministic.\n",
    "If that sounds weird to you, fret not: \n",
    "it sounded weird to me too when I first started using random numbers.\n",
    "My goal here is to demystify this foundational piece for you."
   ]
  },
  {
   "cell_type": "markdown",
   "metadata": {},
   "source": [
    "## Random number generation before JAX\n",
    "\n",
    "Before JAX came along, we used NumPy's stateful random number generation system.\n",
    "Let's quickly recap how it works."
   ]
  },
  {
   "cell_type": "code",
   "execution_count": 3,
   "metadata": {},
   "outputs": [],
   "source": [
    "import numpy as onp  # original numpy"
   ]
  },
  {
   "cell_type": "markdown",
   "metadata": {},
   "source": [
    "Let's draw a random number from a Gaussian in NumPy."
   ]
  },
  {
   "cell_type": "code",
   "execution_count": 4,
   "metadata": {},
   "outputs": [
    {
     "data": {
      "text/plain": [
       "0.4967141530112327"
      ]
     },
     "execution_count": 4,
     "metadata": {},
     "output_type": "execute_result"
    }
   ],
   "source": [
    "onp.random.seed(42)\n",
    "a = onp.random.normal()\n",
    "a"
   ]
  },
  {
   "cell_type": "markdown",
   "metadata": {},
   "source": [
    "And for good measure, let's draw another one."
   ]
  },
  {
   "cell_type": "code",
   "execution_count": 5,
   "metadata": {},
   "outputs": [
    {
     "data": {
      "text/plain": [
       "-0.13826430117118466"
      ]
     },
     "execution_count": 5,
     "metadata": {},
     "output_type": "execute_result"
    }
   ],
   "source": [
    "b = onp.random.normal()\n",
    "b"
   ]
  },
  {
   "cell_type": "markdown",
   "metadata": {},
   "source": [
    "This is intuitive behaviour,\n",
    "because we expect that each time we call on a random number generator,\n",
    "we should get back a different number from before.\n",
    "\n",
    "However, this behaviour is problematic when we are trying to debug programs.\n",
    "When debugging, one desirable property is determinism.\n",
    "Executing the same line of code twice _should_ produce exactly the same result.\n",
    "Otherwise, debugging what happens at that particular line would be extremely difficult.\n",
    "The core problem here is that stochastically,\n",
    "we might hit a setting where we encounter an error in our program,\n",
    "and we are unable to reproduce it because we are relying on\n",
    "a random number generator that relies on global state,\n",
    "and hence that doesn't behave in a _fully_ controllable fashion."
   ]
  },
  {
   "cell_type": "markdown",
   "metadata": {},
   "source": [
    "## Random number generation with JAX\n",
    "\n",
    "How then can we get \"the best of both worlds\": random number generation that is controllable?\n",
    "\n",
    "### Explicit PRNGKeys control random number generation\n",
    "\n",
    "The way that JAX's developers went about doing this\n",
    "is to use pseudo-random number generators\n",
    "that require explicit passing in of a pseudo-random number generation key,\n",
    "rather than relying on a global state being set.\n",
    "Each unique key will deterministically give a unique drawn value explicitly.\n",
    "Let's see that in action:"
   ]
  },
  {
   "cell_type": "code",
   "execution_count": 6,
   "metadata": {},
   "outputs": [
    {
     "name": "stderr",
     "output_type": "stream",
     "text": [
      "WARNING:absl:No GPU/TPU found, falling back to CPU. (Set TF_CPP_MIN_LOG_LEVEL=0 and rerun for more info.)\n"
     ]
    },
    {
     "data": {
      "text/plain": [
       "DeviceArray(-0.18471184, dtype=float32)"
      ]
     },
     "execution_count": 6,
     "metadata": {},
     "output_type": "execute_result"
    }
   ],
   "source": [
    "from jax import random\n",
    "\n",
    "key = random.PRNGKey(42)\n",
    "\n",
    "a = random.normal(key=key)\n",
    "a"
   ]
  },
  {
   "cell_type": "markdown",
   "metadata": {},
   "source": [
    "To show you that passing in the same key gives us the same values as before:"
   ]
  },
  {
   "cell_type": "code",
   "execution_count": 7,
   "metadata": {},
   "outputs": [
    {
     "data": {
      "text/plain": [
       "Buffer(-0.18471184, dtype=float32)"
      ]
     },
     "execution_count": 7,
     "metadata": {},
     "output_type": "execute_result"
    }
   ],
   "source": [
    "b = random.normal(key=key)\n",
    "b"
   ]
  },
  {
   "cell_type": "markdown",
   "metadata": {},
   "source": [
    "That should already be a stark difference from what you're used to with vanilla NumPy,\n",
    "and this is one key crucial difference between JAX's random module and NumPy's random module.\n",
    "Everything else about the API is very similar,\n",
    "but this is a key difference, and for good reason -- \n",
    "this should hint to you the idea that we can have explicit reproducibility,\n",
    "rather than merely implicit,\n",
    "over our stochastic programs within the same session."
   ]
  },
  {
   "cell_type": "markdown",
   "metadata": {},
   "source": [
    "### Splitting keys to generate new draws\n",
    "\n",
    "How, then, do we get a new draw from JAX?\n",
    "Well, we can either create a new key manually,\n",
    "or we can programmatically split the key into two,\n",
    "and use one of the newly split keys to generate a new random number. Let's see that in action:"
   ]
  },
  {
   "cell_type": "code",
   "execution_count": 8,
   "metadata": {},
   "outputs": [
    {
     "data": {
      "text/plain": [
       "Buffer(1.3694694, dtype=float32)"
      ]
     },
     "execution_count": 8,
     "metadata": {},
     "output_type": "execute_result"
    }
   ],
   "source": [
    "k1, k2 = random.split(key)\n",
    "c = random.normal(key=k2)\n",
    "c"
   ]
  },
  {
   "cell_type": "code",
   "execution_count": 9,
   "metadata": {},
   "outputs": [
    {
     "data": {
      "text/plain": [
       "Buffer(0.04692494, dtype=float32)"
      ]
     },
     "execution_count": 9,
     "metadata": {},
     "output_type": "execute_result"
    }
   ],
   "source": [
    "k3, k4, k5 = random.split(k2, num=3)\n",
    "d = random.normal(key=k3)\n",
    "d"
   ]
  },
  {
   "cell_type": "markdown",
   "metadata": {},
   "source": [
    "By splitting the key into two, three, or even 1000 parts, we can get new keys that are derived from a parent key that generate different random numbers from the same random number generating function.\n",
    "\n",
    "Let's explore how we can use this in the generation of a Gaussian random walk."
   ]
  },
  {
   "cell_type": "markdown",
   "metadata": {},
   "source": [
    "## Example: Simulating a Gaussian random walk\n",
    "\n",
    "A Gaussian random walk is one where we start at a point that is drawn from a Gaussian, and then we draw another point from a Gausian using the first point as the starting Gaussian point.\n",
    "\n",
    "Does that loop structure sound familiar? Well... yeah, it sounds like a classic `lax.scan` setup!\n",
    "\n",
    "Here's how we might set it up.\n",
    "\n",
    "Firstly, JAX's `random.normal` function doesn't allow us to specify the location and scale, and only gives us a draw from a unit Gaussian. We can work around this, because any unit Gaussian draw can be shifted and scaled to a $N(\\mu, \\sigma)$ by multiplying the draw by $\\sigma$ and adding $\\mu$. \n",
    "\n",
    "To get a length 1000 random draw, we can split the key 1000 ways, and use `lax.scan` to scan a new Gaussian generator across the keys, thereby giving us 1000 unique draws. We then add the old value of the Gaussian to the new draw.\n",
    "\n",
    "We return the tuple (`new_gaussian, old_gaussian`), as we want to have the new gaussian passed into the next iteration, and accumulate the history of the old gaussians."
   ]
  },
  {
   "cell_type": "code",
   "execution_count": null,
   "metadata": {},
   "outputs": [],
   "source": [
    "from dl_workshop.jax_idioms import generate_new_gaussian"
   ]
  },
  {
   "cell_type": "code",
   "execution_count": null,
   "metadata": {},
   "outputs": [],
   "source": [
    "from jax import lax\n",
    "\n",
    "keys = random.split(key, num=1000)\n",
    "final, result = lax.scan(generate_new_gaussian, 0.0, keys)\n",
    "result"
   ]
  },
  {
   "cell_type": "code",
   "execution_count": null,
   "metadata": {},
   "outputs": [],
   "source": [
    "import matplotlib.pyplot as plt\n",
    "\n",
    "plt.plot(result)"
   ]
  },
  {
   "cell_type": "markdown",
   "metadata": {},
   "source": [
    "Looks like we did it! Definitely looks like a proper Gaussian random walk to me. Let's encapsulate this inside a funciton generator, because the next thing we're going to do is to generate multiple realizations of the Gaussian random walk."
   ]
  },
  {
   "cell_type": "code",
   "execution_count": null,
   "metadata": {},
   "outputs": [],
   "source": [
    "from dl_workshop.jax_idioms import make_gaussian_random_walk_func\n",
    "\n",
    "make_gaussian_random_walk_func"
   ]
  },
  {
   "cell_type": "markdown",
   "metadata": {},
   "source": [
    "Now, what if we wanted to generate multiple realizations of the Gaussian random walk? Does this sound familiar? If so... yeah, it's a vanilla for-loop, which directly brings us to `vmap`!"
   ]
  },
  {
   "cell_type": "code",
   "execution_count": null,
   "metadata": {},
   "outputs": [],
   "source": [
    "from jax import vmap\n",
    "\n",
    "num_realizations = 200\n",
    "keys = random.split(key, num_realizations)\n",
    "grw_1000_steps = make_gaussian_random_walk_func(1000)\n",
    "final, trajectories = vmap(grw_1000_steps)(keys)"
   ]
  },
  {
   "cell_type": "code",
   "execution_count": null,
   "metadata": {},
   "outputs": [],
   "source": [
    "trajectories.shape"
   ]
  },
  {
   "cell_type": "markdown",
   "metadata": {},
   "source": [
    "We did it! We have 200 trajectories of a 1000-step Gaussian random walk. Notice also how the program is structured very nicely: Each layer of abstraction in the program corresponds to a new axis dimension along which we are working. The onion layering of the program has very _natural_ structure for the problem at hand.\n",
    "\n",
    "Enough prosyletizing from me, let's visualize the Gaussian random walk to make sure it genuinely is a GRW."
   ]
  },
  {
   "cell_type": "code",
   "execution_count": null,
   "metadata": {},
   "outputs": [],
   "source": [
    "import seaborn as sns\n",
    "\n",
    "fig, ax = plt.subplots()\n",
    "\n",
    "for trajectory in trajectories[0:20]:\n",
    "    ax.plot(trajectory)\n",
    "sns.despine()"
   ]
  },
  {
   "cell_type": "markdown",
   "metadata": {},
   "source": [
    "Now, note how if you were to re-run the entire program from top-to-bottom again, you would get _exactly the same plot_. This is what we mean by \"reproducible\". Traditional array programs are not fully reproducible, they are only \"kind of\" reproducible in the limit of many runs of the same program. With JAX's random number generation paradigm, any random number generation program is 100% reproducible, down to the level of the exact sequence of random number draws, as long as the seed(s) controlling the program are 100% identical. When an error shows up in a program, as long as its stochastic components are controlled by hand-set seeds, that error is 100% reproducible. For those who have tried working with stochastic programs before, this is an extremely desirable property, as it means we gain the ability to reliably debug our program -- absolutely crucial especially when it comes to working with probabilistic models.\n",
    "\n",
    "Also notice how we finally wrote our first productive for-loop -- but it was only to plot something, not for some form of calculations :)."
   ]
  }
 ],
 "metadata": {
  "kernelspec": {
   "display_name": "dl-workshop",
   "language": "python",
   "name": "dl-workshop"
  },
  "language_info": {
   "codemirror_mode": {
    "name": "ipython",
    "version": 3
   },
   "file_extension": ".py",
   "mimetype": "text/x-python",
   "name": "python",
   "nbconvert_exporter": "python",
   "pygments_lexer": "ipython3",
   "version": "3.9.2"
  }
 },
 "nbformat": 4,
 "nbformat_minor": 4
}
