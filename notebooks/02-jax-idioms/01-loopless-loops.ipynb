{
 "cells": [
  {
   "cell_type": "code",
   "execution_count": 1,
   "metadata": {},
   "outputs": [],
   "source": [
    "%load_ext autoreload\n",
    "%autoreload 2\n",
    "%matplotlib inline\n",
    "%config InlineBackend.figure_format = 'retina'"
   ]
  },
  {
   "cell_type": "markdown",
   "metadata": {},
   "source": [
    "# Replacing simple for-loops with `vmap`\n",
    "\n",
    "The first JAX thing we will look at is the `vmap` function.\n",
    "What does `vmap` do?\n",
    "From the [JAX docs on `vmap`][docs]\n",
    "\n",
    "[docs]: (https://jax.readthedocs.io/en/latest/jax.html#jax.vmap):\n",
    "\n",
    "> Vectorizing map. Creates a function which maps fun over argument axes.\n",
    "\n",
    "Basically the idea here is to take a function\n",
    "and apply it to every \"element\" along a particular array axis.\n",
    "Let's take a look at a few examples to see how to use it."
   ]
  },
  {
   "cell_type": "markdown",
   "metadata": {},
   "source": [
    "## Mapping a function over a 1D array\n",
    "\n",
    "The trivial example we will use here is to map a function over a 1D array.\n",
    "Firstly, let's get an array of numbers, say, from between 0 to 1:"
   ]
  },
  {
   "cell_type": "code",
   "execution_count": 2,
   "metadata": {},
   "outputs": [
    {
     "name": "stderr",
     "output_type": "stream",
     "text": [
      "WARNING:absl:No GPU/TPU found, falling back to CPU. (Set TF_CPP_MIN_LOG_LEVEL=0 and rerun for more info.)\n"
     ]
    },
    {
     "data": {
      "text/plain": "DeviceArray([0.0000000e+00, 1.0001000e-04, 2.0002000e-04, ...,\n             9.9979997e-01, 9.9989998e-01, 1.0000000e+00], dtype=float32)"
     },
     "execution_count": 2,
     "metadata": {},
     "output_type": "execute_result"
    }
   ],
   "source": [
    "import jax.numpy as np\n",
    "from jax import vmap\n",
    "from time import time\n",
    "\n",
    "arr = np.linspace(0, 1, 10000)\n",
    "arr"
   ]
  },
  {
   "cell_type": "markdown",
   "metadata": {},
   "source": [
    "The shape of `arr` is `(10000,)`, which means it is one-dimensional.\n",
    "`vmap`ping a function across the first dimension here\n",
    "means that we will map it across every element in `arr`.\n",
    "Let's apply the `sin` function, for example."
   ]
  },
  {
   "cell_type": "code",
   "execution_count": 17,
   "metadata": {},
   "outputs": [
    {
     "data": {
      "text/plain": "DeviceArray([0.0000000e+00, 1.0001000e-04, 2.0002000e-04, ...,\n             8.4136289e-01, 8.4141695e-01, 8.4147096e-01], dtype=float32)"
     },
     "execution_count": 17,
     "metadata": {},
     "output_type": "execute_result"
    }
   ],
   "source": [
    "vmap(np.sin)(arr)"
   ]
  },
  {
   "cell_type": "markdown",
   "metadata": {},
   "source": [
    "Now, at this point you may be wondering,\n",
    "but that's equivalent to applying a NumPy universal function (`ufunc`)\n",
    "elementwise across an array.\n",
    "Your intuition is correct!\n",
    "The example above is the trivial one.\n",
    "Let's see a more complicated situation in which we might want to use `vmap`."
   ]
  },
  {
   "cell_type": "markdown",
   "metadata": {},
   "source": [
    "## Mapping a function across a 2D matrix.\n",
    "\n",
    "In this example let's say we have a matrix of values\n",
    "that we measured in an experiment.\n",
    "There were `n_samples` measured, and `3` unique properties that we collected,\n",
    "thereby giving us a matrix of shape `(n_samples, 3)`.\n",
    "Just for the sake of pedagogy,\n",
    "let's say that we wanted to take the row-wise sum.\n",
    "While it's possible to use `numpy.sum()` while specifying an axis to collapse,\n",
    "let's see how we can use JAX to accomplish the same."
   ]
  },
  {
   "cell_type": "code",
   "execution_count": 19,
   "metadata": {},
   "outputs": [
    {
     "data": {
      "text/plain": "DeviceArray([ 5,  9,  8, 11, 16], dtype=int32)"
     },
     "execution_count": 19,
     "metadata": {},
     "output_type": "execute_result"
    }
   ],
   "source": [
    "data = np.array([\n",
    "    [1, 3, 1,],\n",
    "    [3, 5, 1,],\n",
    "    [1, 2, 5,],\n",
    "    [7, 1, 3,],\n",
    "    [11, 2, 3,],\n",
    "])\n",
    "\n",
    "vmap(np.sum, in_axes=0)(data)"
   ]
  },
  {
   "cell_type": "markdown",
   "metadata": {},
   "source": [
    "Here, we specify the exact axes on which we wish to perform the sum,\n",
    "which is axis 0 (for row-wise sum).\n",
    "It's also possible to do a column-wise sum:"
   ]
  },
  {
   "cell_type": "code",
   "execution_count": 20,
   "metadata": {},
   "outputs": [
    {
     "data": {
      "text/plain": "DeviceArray([23, 13, 13], dtype=int32)"
     },
     "execution_count": 20,
     "metadata": {},
     "output_type": "execute_result"
    }
   ],
   "source": [
    "vmap(np.sum, in_axes=1)(data)"
   ]
  },
  {
   "cell_type": "markdown",
   "metadata": {},
   "source": [
    "By default, JAX's `vmap` maps over axis 0, which is kind of handy:\n",
    "by whatever accidental convention from history,\n",
    "we usually set the 0th axis as the axis along which\n",
    "we order our samples/observations that constitute our dataset.\n",
    "Expressed in JAX code:"
   ]
  },
  {
   "cell_type": "code",
   "execution_count": 21,
   "metadata": {},
   "outputs": [
    {
     "data": {
      "text/plain": "DeviceArray([ 5,  9,  8, 11, 16], dtype=int32)"
     },
     "execution_count": 21,
     "metadata": {},
     "output_type": "execute_result"
    }
   ],
   "source": [
    "\n",
    "vmap(np.sum)(data)"
   ]
  },
  {
   "cell_type": "markdown",
   "metadata": {},
   "source": [
    "## Mapping a function over a 3D array\n",
    "\n",
    "Dealing with high dimensional arrays\n",
    "is where `vmap` really begins to shine for us.\n",
    "Let's say we had a second dataset of the same shape,\n",
    "such that now we had a 3D array:"
   ]
  },
  {
   "cell_type": "code",
   "execution_count": 22,
   "metadata": {},
   "outputs": [
    {
     "data": {
      "text/plain": "(2, 5, 3)"
     },
     "execution_count": 22,
     "metadata": {},
     "output_type": "execute_result"
    }
   ],
   "source": [
    "data2 = np.array([\n",
    "    [1, 3, 7,],\n",
    "    [3, 5, 11,],\n",
    "    [3, 2, 5,],\n",
    "    [7, 5, 3,],\n",
    "    [11, 5, 3,],\n",
    "])\n",
    "\n",
    "combined_data = np.moveaxis(np.dstack([data, data2], ), 2, 0)\n",
    "combined_data.shape"
   ]
  },
  {
   "cell_type": "markdown",
   "metadata": {},
   "source": [
    "Our shapes tell us that we have 2 stacks of data, each with 5 rows and 3 columns.\n",
    "\n",
    "Let's now say we wanted to do a row-wise sum.\n",
    "With vanilla NumPy, we'd have to specify with a magic number\n",
    "the exact axis we wanted to collapse in order to accomplish the sum:"
   ]
  },
  {
   "cell_type": "code",
   "execution_count": 31,
   "metadata": {},
   "outputs": [
    {
     "data": {
      "text/plain": "DeviceArray([[ 5,  9,  8, 11, 16],\n             [11, 19, 10, 15, 19]], dtype=int32)"
     },
     "execution_count": 31,
     "metadata": {},
     "output_type": "execute_result"
    }
   ],
   "source": [
    "np.sum(combined_data, axis=2)"
   ]
  },
  {
   "cell_type": "markdown",
   "metadata": {},
   "source": [
    "With JAX + some informatively-named functions,\n",
    "we can avoid the magic number trap instead.\n",
    "\n",
    "Firstly, we will set up two functions,\n",
    "one function that sums over rows in one dataset:"
   ]
  },
  {
   "cell_type": "code",
   "execution_count": 32,
   "metadata": {},
   "outputs": [],
   "source": [
    "def row_sum(data: np.ndarray):\n",
    "    \"\"\"Perform a row-wise sum over one dataset.\n",
    "    \n",
    "    We assume that data is an array of 2 dimensions,\n",
    "    such that the first dim is the sample dimension,\n",
    "    and the second dim is <insert something informative here>.\n",
    "    \"\"\"\n",
    "    return vmap(np.sum)(data)"
   ]
  },
  {
   "cell_type": "markdown",
   "metadata": {},
   "source": [
    "Now, we can map row_sum over all datasets in the 3D cube\n",
    "to yield the summary statistics that we desire:\n",
    "row-wise summations (5 rows each) over 2 datasets\n",
    "to give us a final dataset of 2 rows and 5 columns."
   ]
  },
  {
   "cell_type": "code",
   "execution_count": 33,
   "metadata": {},
   "outputs": [
    {
     "data": {
      "text/plain": "DeviceArray([[ 5,  9,  8, 11, 16],\n             [11, 19, 10, 15, 19]], dtype=int32)"
     },
     "execution_count": 33,
     "metadata": {},
     "output_type": "execute_result"
    }
   ],
   "source": [
    "vmap(row_sum)(combined_data)"
   ]
  },
  {
   "cell_type": "markdown",
   "metadata": {},
   "source": [
    "And voilà, just like that, magic numbers were removed from our program, \n",
    "and the hierarchical structure of our functions are a bit more explicit:\n",
    "\n",
    "- The elementary function, `np.sum`, operates on a per-row basis.\n",
    "- We map the elementary function across all rows of a single dataset, \n",
    "giving us a higher-order function that calculates \n",
    "row-wise summation for a single dataset, `row_sum`.\n",
    "- We then map the `row_sum` function across all of the datasets \n",
    "that have been stacked together in a single 3D array."
   ]
  },
  {
   "cell_type": "markdown",
   "metadata": {},
   "source": [
    "## Mapping functions with two arguments\n",
    "\n",
    "Let's see how we can handle functions that accept two arguments using `vmap`.\n",
    "Say we have a function that takes in two vectors `a` and `b`,\n",
    "and multiplies `a` by the transpose of `b`\n",
    "to get a 2D array:"
   ]
  },
  {
   "cell_type": "code",
   "execution_count": 38,
   "metadata": {},
   "outputs": [
    {
     "data": {
      "text/plain": "DeviceArray([[ 2,  4,  6,  8],\n             [ 3,  6,  9, 12],\n             [ 4,  8, 12, 16],\n             [ 5, 10, 15, 20],\n             [ 6, 12, 18, 24]], dtype=int32)"
     },
     "execution_count": 38,
     "metadata": {},
     "output_type": "execute_result"
    }
   ],
   "source": [
    "a = np.array([1, 2, 3, 4,])\n",
    "b = np.array([2, 3, 4, 5, 6])\n",
    "\n",
    "def grid_multiply(a, b):\n",
    "    \"\"\"Grid multiply vectors a and b.\n",
    "\n",
    "    Both `a` and `b` are assumed to be vectors with only one dimension.\n",
    "    Reshaping happens inside the function.\"\"\"\n",
    "    return a * np.reshape(b, (-1, 1))\n",
    "\n",
    "\n",
    "grid_multiply(a, b)"
   ]
  },
  {
   "cell_type": "markdown",
   "metadata": {},
   "source": [
    "What if for our each of our inputs `a` and `b` we had multiple vectors\n",
    "rather than a single vector each?\n",
    "`vmap` to the rescue again!\n",
    "\n",
    "If your function has two array arguments,\n",
    "then by default `vmap` will map the function\n",
    "over the leading (0th) axis on both."
   ]
  },
  {
   "cell_type": "code",
   "execution_count": 40,
   "metadata": {},
   "outputs": [
    {
     "data": {
      "text/plain": "DeviceArray([[[ 2.       ,  4.       ,  6.       ,  8.       ],\n              [ 3.       ,  6.       ,  9.       , 12.       ],\n              [ 4.       ,  8.       , 12.       , 16.       ],\n              [ 5.       , 10.       , 15.       , 20.       ],\n              [ 6.       , 12.       , 18.       , 24.       ]],\n\n             [[ 0.4      ,  0.8      ,  1.2      ,  1.6      ],\n              [ 0.6      ,  1.2      ,  1.8000001,  2.4      ],\n              [ 0.8      ,  1.6      ,  2.4      ,  3.2      ],\n              [ 1.       ,  2.       ,  3.       ,  4.       ],\n              [ 1.2      ,  2.4      ,  3.6000001,  4.8      ]],\n\n             [[ 1.2      ,  2.4      ,  3.6000001,  4.8      ],\n              [ 1.8000001,  3.6000001,  5.4      ,  7.2000003],\n              [ 2.4      ,  4.8      ,  7.2000003,  9.6      ],\n              [ 3.       ,  6.       ,  9.       , 12.       ],\n              [ 3.6000001,  7.2000003, 10.8      , 14.400001 ]]],            dtype=float32)"
     },
     "execution_count": 40,
     "metadata": {},
     "output_type": "execute_result"
    }
   ],
   "source": [
    "# Let's simulate a matrix of inputs by vstacking `a` and `b`.\n",
    "a_mat = np.vstack([a, a*2, a*3])\n",
    "b_mat = np.vstack([b, b*0.1, b*0.2])\n",
    "\n",
    "vmap(grid_multiply)(a_mat, b_mat)"
   ]
  },
  {
   "cell_type": "markdown",
   "metadata": {},
   "source": [
    "Wonderful!\n",
    "We have an array of the correct shape here!"
   ]
  },
  {
   "cell_type": "markdown",
   "metadata": {},
   "source": [
    "What if we wanted to fix one of the arguments in place,\n",
    "such as fixing `a` to be one array instead, while mapping over `b`?\n",
    "To do this, we have to partially evaluate a function using `functools.partial`."
   ]
  },
  {
   "cell_type": "code",
   "execution_count": 42,
   "metadata": {},
   "outputs": [
    {
     "data": {
      "text/plain": "DeviceArray([[[ 2.        ,  4.        ,  6.        ,  8.        ],\n              [ 3.        ,  6.        ,  9.        , 12.        ],\n              [ 4.        ,  8.        , 12.        , 16.        ],\n              [ 5.        , 10.        , 15.        , 20.        ],\n              [ 6.        , 12.        , 18.        , 24.        ]],\n\n             [[ 0.2       ,  0.4       ,  0.6       ,  0.8       ],\n              [ 0.3       ,  0.6       ,  0.90000004,  1.2       ],\n              [ 0.4       ,  0.8       ,  1.2       ,  1.6       ],\n              [ 0.5       ,  1.        ,  1.5       ,  2.        ],\n              [ 0.6       ,  1.2       ,  1.8000001 ,  2.4       ]],\n\n             [[ 0.4       ,  0.8       ,  1.2       ,  1.6       ],\n              [ 0.6       ,  1.2       ,  1.8000001 ,  2.4       ],\n              [ 0.8       ,  1.6       ,  2.4       ,  3.2       ],\n              [ 1.        ,  2.        ,  3.        ,  4.        ],\n              [ 1.2       ,  2.4       ,  3.6000001 ,  4.8       ]]],            dtype=float32)"
     },
     "execution_count": 42,
     "metadata": {},
     "output_type": "execute_result"
    }
   ],
   "source": [
    "from functools import partial \n",
    "\n",
    "# We do not specify kwarg `a=a` because `a` is positionally 1st in line\n",
    "grid_mul_a = partial(grid_multiply, a)\n",
    "\n",
    "vmap(grid_mul_a)(b_mat)"
   ]
  },
  {
   "cell_type": "markdown",
   "metadata": {},
   "source": [
    "The same can be done in fixing `b`:"
   ]
  },
  {
   "cell_type": "code",
   "execution_count": 43,
   "metadata": {},
   "outputs": [
    {
     "data": {
      "text/plain": "DeviceArray([[[ 2,  4,  6,  8],\n              [ 3,  6,  9, 12],\n              [ 4,  8, 12, 16],\n              [ 5, 10, 15, 20],\n              [ 6, 12, 18, 24]],\n\n             [[ 4,  8, 12, 16],\n              [ 6, 12, 18, 24],\n              [ 8, 16, 24, 32],\n              [10, 20, 30, 40],\n              [12, 24, 36, 48]],\n\n             [[ 6, 12, 18, 24],\n              [ 9, 18, 27, 36],\n              [12, 24, 36, 48],\n              [15, 30, 45, 60],\n              [18, 36, 54, 72]]], dtype=int32)"
     },
     "execution_count": 43,
     "metadata": {},
     "output_type": "execute_result"
    }
   ],
   "source": [
    "# We have to specify kwarg `b=b` because `b` is positionally 2nd in line\n",
    "grid_mul_b = partial(grid_multiply, b=b)\n",
    "\n",
    "vmap(grid_mul_b)(a_mat)"
   ]
  },
  {
   "cell_type": "markdown",
   "metadata": {},
   "source": [
    "As usual, we are able to not care about the leading array axis for each array. \n",
    "Once again, we also broke down the problem into its elementary components, \n",
    "and then leveraged `vmap` to build _out_ the program \n",
    "to do what we wanted it to do. \n",
    "(This general pattern will show up!)\n",
    "\n",
    "In general, `vmap`-ing over the _leading_ array axis \n",
    "is the idiomatic thing to do with JAX. \n",
    "It's possibleto `vmap` over other axes, but those are not the defaults. \n",
    "The implication is that we are nudged towards writing programs that \n",
    "at their core begin with an elementary function that operate\n",
    "on every entry along one axis in an array.\n",
    "We then progressively `vmap` them outwards on array data structures."
   ]
  },
  {
   "cell_type": "markdown",
   "metadata": {},
   "source": [
    "## Exercises\n",
    "\n",
    "Let's go to some exercises to flex your newly-found `vmap` muscles!\n",
    "Everything you need to know you have picked up above;\n",
    "all that's left is getting practice creatively combining them together.\n",
    "Use the puzzles below, which are ordered in increasing complexity,\n",
    "to challenge your skillsets!"
   ]
  },
  {
   "cell_type": "markdown",
   "metadata": {},
   "source": [
    "### Exercise 1: `vmap` a dot product over matrices\n",
    "\n",
    "Dot products are ubiquitous in the deep learning world,\n",
    "and most models are nothing more than fancy chains of dot products.\n",
    "In this exercise, your task is to use `vmap` to express a dot product\n",
    "between two stacks of matrices.\n",
    "Your implementation should match the vanilla Python+NumPy equivalent provided:"
   ]
  },
  {
   "cell_type": "code",
   "execution_count": 53,
   "metadata": {},
   "outputs": [
    {
     "data": {
      "text/plain": "(11, 5, 7)"
     },
     "execution_count": 53,
     "metadata": {},
     "output_type": "execute_result"
    }
   ],
   "source": [
    "from jax import random\n",
    "\n",
    "key = random.PRNGKey(42)\n",
    "mat1 = random.normal(key, shape=(11, 5, 3))\n",
    "mat2 = random.normal(key, shape=(11, 3, 7))\n",
    "\n",
    "\n",
    "def numpy_equivalent(mat1, mat2):\n",
    "    result = []\n",
    "    for m1, m2 in zip(mat1, mat2):\n",
    "        result.append(np.dot(m1, m2))\n",
    "    return np.stack(result)\n",
    "\n",
    "\n",
    "result = numpy_equivalent(mat1, mat2)\n",
    "result.shape \n",
    "\n",
    "\n",
    "## Your solution below!"
   ]
  },
  {
   "cell_type": "markdown",
   "metadata": {},
   "source": [
    "### Exercise 2: Chained `vmap`s\n",
    "\n",
    "We're going to try our hand at constructing a slightly more complex program.\n",
    "This program takes in one dataset of three dimensions,\n",
    "`(n_datasets, n_rows, n_columns)`.\n",
    "The program first calculates\n",
    "the cumulative product across each row in a dataset,\n",
    "then sums them up column-wise across each dataset,\n",
    "and finally applies this same operation across all datasets stacked together.\n",
    "This one is a bit more challenging!\n",
    "\n",
    "To help you along here, the shape of the data are such:\n",
    "\n",
    "- There are 11 stacks of data.\n",
    "- Each stack of data has 31 rows, and 7 columns.\n",
    "\n",
    "The result of this program still should have 11 stacks and 31 rows,\n",
    "but now each column is not the original data,\n",
    "but the cumulative product of the previous columns.\n",
    "\n",
    "To get this answer write,\n",
    "no magic numbers are allows (e.g. for accessing particular axes).\n",
    "At least two `vmap`s are necessary here."
   ]
  },
  {
   "cell_type": "code",
   "execution_count": 59,
   "metadata": {},
   "outputs": [
    {
     "data": {
      "text/plain": "(11, 31)"
     },
     "execution_count": 59,
     "metadata": {},
     "output_type": "execute_result"
    }
   ],
   "source": [
    "data = random.normal(key, shape=(11, 31, 7))\n",
    "\n",
    "\n",
    "def ex2_numpy_equivalent(data):\n",
    "    result = []\n",
    "    for d in data:\n",
    "        cp = np.cumprod(d, axis=-1)\n",
    "        s = np.sum(cp, axis=1)\n",
    "        result.append(s)\n",
    "    return np.stack(result)\n",
    "\n",
    "ex2_numpy_equivalent(data).shape\n",
    "\n",
    "\n",
    "# Your answer below:\n",
    "\n",
    "# def row_wise_cumprod(row):\n",
    "#     return np.cumprod(row)\n",
    "\n",
    "# def dataset_wise_sum_cumprod(data):\n",
    "#     row_cumprods = vmap(row_wise_cumprod)(data)\n",
    "#     return vmap(np.sum)(row_cumprods)\n",
    "\n",
    "# vmap(dataset_wise_sum_cumprod)(data).shape"
   ]
  },
  {
   "cell_type": "markdown",
   "metadata": {},
   "source": [
    "### Exercise 3: Double for-loops\n",
    "\n",
    "This one is a favourite of mine,\n",
    "and took me an afternoon of on-and-off thinking to reason about clearly.\n",
    "Graphs, a.k.a. networks, are comprised of nodes and edges,\n",
    "and nodes can be represented by a vector of information (i.e. node features).\n",
    "Stacking all the nodes' vectors together\n",
    "gives us a _node feature matrix_.\n",
    "In graph attention networks, one step is needed where we pairwise concatenate\n",
    "every node to every other node together.\n",
    "For example, if every node had a length `n_features` feature vector,\n",
    "then concatenating two nodes' vectors together\n",
    "should give us a length `2 * n_features` vector.\n",
    "Doing this pairwise across all nodes in a graph\n",
    "would give us an `(n_nodes, n_nodes, 2 * n_features)` feature vector.\n",
    "\n",
    "Your challenge below is to write the vmapped version of the following:"
   ]
  },
  {
   "cell_type": "code",
   "execution_count": 64,
   "metadata": {},
   "outputs": [
    {
     "data": {
      "text/plain": "(13, 13, 34)"
     },
     "execution_count": 64,
     "metadata": {},
     "output_type": "execute_result"
    }
   ],
   "source": [
    "num_nodes = 13\n",
    "num_feats = 17\n",
    "node_feats = random.normal(key, shape=(13, 17))\n",
    "\n",
    "def ex3_numpy_equivalent(node_feats):\n",
    "    result = []\n",
    "    for node1 in node_feats:\n",
    "        node1_concats = []\n",
    "        for node2 in node_feats:\n",
    "            cc = np.concatenate([node1, node2])\n",
    "            node1_concats.append(cc)\n",
    "        result.append(np.stack(node1_concats))\n",
    "\n",
    "    return np.stack(result)\n",
    "\n",
    "ex3_numpy_equivalent(node_feats).shape\n",
    "\n",
    "## Your solution below"
   ]
  },
  {
   "cell_type": "code",
   "execution_count": null,
   "metadata": {},
   "outputs": [],
   "source": []
  }
 ],
 "metadata": {
  "kernelspec": {
   "display_name": "dl-workshop",
   "language": "python",
   "name": "dl-workshop"
  },
  "language_info": {
   "codemirror_mode": {
    "name": "ipython",
    "version": 3
   },
   "file_extension": ".py",
   "mimetype": "text/x-python",
   "name": "python",
   "nbconvert_exporter": "python",
   "pygments_lexer": "ipython3",
   "version": "3.7.9"
  }
 },
 "nbformat": 4,
 "nbformat_minor": 4
}